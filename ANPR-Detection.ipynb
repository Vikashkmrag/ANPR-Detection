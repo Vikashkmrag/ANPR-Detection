{
 "cells": [
  {
   "cell_type": "markdown",
   "id": "63132080",
   "metadata": {},
   "source": [
    "# Imports"
   ]
  },
  {
   "cell_type": "code",
   "execution_count": 1,
   "id": "052566fd",
   "metadata": {},
   "outputs": [],
   "source": [
    "import os\n",
    "import pathlib\n",
    "import tensorflow as tf\n",
    "import glob\n",
    "import cv2\n",
    "import time\n",
    "import numpy as np\n",
    "from mean_average_precision import MetricBuilder\n",
    "import xml.etree.cElementTree as ET\n",
    "import numpy as np\n",
    "from PIL import Image\n",
    "import warnings"
   ]
  },
  {
   "cell_type": "markdown",
   "id": "db35ea85",
   "metadata": {},
   "source": [
    "# Paths/Variables"
   ]
  },
  {
   "cell_type": "code",
   "execution_count": 2,
   "id": "6f377251",
   "metadata": {},
   "outputs": [],
   "source": [
    "PATH_TO_MODEL_DIR = 'exported-model_ssd_fpn'\n",
    "PATH_TO_SAVED_MODEL = PATH_TO_MODEL_DIR + \"/saved_model\"\n",
    "PATH_TO_LABELS = 'label_map_licence.txt'\n",
    "IMAGE_PATHS = \"./Input/*.jpg\"\n",
    "RESULT_DIR = \"./Output\"\n",
    "os.makedirs(RESULT_DIR,exist_ok=True)\n",
    "\n",
    "THRESHOLD = 0.4"
   ]
  },
  {
   "cell_type": "code",
   "execution_count": 3,
   "id": "5a6df6b7",
   "metadata": {},
   "outputs": [
    {
     "data": {
      "text/plain": [
       "{0: {'id': 0, 'name': 'license_plate'}}"
      ]
     },
     "execution_count": 3,
     "metadata": {},
     "output_type": "execute_result"
    }
   ],
   "source": [
    "##Function to extract classes from labelfile\n",
    "def create_category_index(label_path):\n",
    "    f = open(label_path)\n",
    "    category_index = {}\n",
    "    for i, val in enumerate(f):\n",
    "        if i != 0:\n",
    "            val = val[:-1]\n",
    "            if val != '???':\n",
    "                category_index.update({(i-1): {'id': (i-1), 'name': val}})\n",
    "            \n",
    "    f.close()\n",
    "    #print(category_index)\n",
    "    # exit()\n",
    "    return category_index\n",
    "id_to_cls = create_category_index(PATH_TO_LABELS)\n",
    "id_to_cls"
   ]
  },
  {
   "cell_type": "markdown",
   "id": "05c02014",
   "metadata": {},
   "source": [
    "# Load SSD-Mobilenet-fpnlite tensorflow model"
   ]
  },
  {
   "cell_type": "code",
   "execution_count": 4,
   "id": "ad6f38c8",
   "metadata": {},
   "outputs": [
    {
     "name": "stdout",
     "output_type": "stream",
     "text": [
      "Loading model...Done! Took 13.166779041290283 seconds\n"
     ]
    }
   ],
   "source": [
    "print('Loading model...', end='')\n",
    "start_time = time.time()\n",
    "detect_fn = tf.saved_model.load(PATH_TO_SAVED_MODEL)\n",
    "end_time = time.time()\n",
    "elapsed_time = end_time - start_time\n",
    "print('Done! Took {} seconds'.format(elapsed_time))"
   ]
  },
  {
   "cell_type": "markdown",
   "id": "aed6ce43",
   "metadata": {},
   "source": [
    "# Get Ground Truth to calculate mean-average-precision"
   ]
  },
  {
   "cell_type": "code",
   "execution_count": 5,
   "id": "0f859262",
   "metadata": {},
   "outputs": [],
   "source": [
    "def calculate_ground_truth(xml_path):\n",
    "    tree = ET.parse(xml_path)\n",
    "    root = tree.getroot()\n",
    "\n",
    "    bboxes = []   ##ground Truth  [xmin, ymin, xmax, ymax, class_id, difficult, crowd]\n",
    "    for member in root.findall('object'):\n",
    "        class_id = 0 #class_to_id[member[0].text]\n",
    "        bboxes.append([int(member[4][0].text), int(member[4][1].text), int(member[4][2].text), int(member[4][3].text), class_id,0,0])\n",
    "    return np.array(bboxes)"
   ]
  },
  {
   "cell_type": "markdown",
   "id": "66353ac0",
   "metadata": {},
   "source": [
    "# NMS"
   ]
  },
  {
   "cell_type": "code",
   "execution_count": 6,
   "id": "b6b29c30",
   "metadata": {},
   "outputs": [],
   "source": [
    "def nms(dets_tup, thresh=0.5):\n",
    "    if len(dets_tup)<=1:\n",
    "        return dets_tup\n",
    "    dets = np.asarray(dets_tup)\n",
    "    x1 = dets[:, 0]\n",
    "    y1 = dets[:, 1]\n",
    "    x2 = dets[:, 2]\n",
    "    y2 = dets[:, 3]\n",
    "\n",
    "    areas = (x2 - x1 + 1) * (y2 - y1 + 1)\n",
    "    order = y2.argsort()#[::-1]\n",
    "\n",
    "    keep = []\n",
    "    while order.size > 0:\n",
    "        i = order[0]\n",
    "        keep.append(dets_tup[i])\n",
    "        xx1 = np.maximum(x1[i], x1[order[1:]])\n",
    "        yy1 = np.maximum(y1[i], y1[order[1:]])\n",
    "        xx2 = np.minimum(x2[i], x2[order[1:]])\n",
    "        yy2 = np.minimum(y2[i], y2[order[1:]])\n",
    "\n",
    "        w = np.maximum(0.0, xx2 - xx1 + 1)\n",
    "        h = np.maximum(0.0, yy2 - yy1 + 1)\n",
    "\n",
    "        inter = w * h\n",
    "        ovr = inter / (areas[i] + areas[order[1:]] - inter)\n",
    "\n",
    "        inds = np.where(ovr <= thresh)[0]\n",
    "        order = order[inds + 1]\n",
    "        \n",
    "    return keep\n"
   ]
  },
  {
   "cell_type": "markdown",
   "id": "5f728991",
   "metadata": {},
   "source": [
    "# Prediction on image"
   ]
  },
  {
   "cell_type": "code",
   "execution_count": 7,
   "id": "4392f6f8",
   "metadata": {},
   "outputs": [],
   "source": [
    "def predict_tf(image_np):\n",
    "    h,w = image_np.shape[:2]\n",
    "\n",
    "    # The input needs to be a tensor, convert it using `tf.convert_to_tensor`.\n",
    "    start_time = time.time()\n",
    "    input_tensor = tf.convert_to_tensor(image_np)\n",
    "    # The model expects a batch of images, so add an axis with `tf.newaxis`.\n",
    "    input_tensor = input_tensor[tf.newaxis, ...]\n",
    "\n",
    "    # input_tensor = np.expand_dims(image_np, 0)\n",
    "    detections = detect_fn(input_tensor)\n",
    "\n",
    "    # All outputs are batches tensors.\n",
    "    # Convert to numpy arrays, and take index [0] to remove the batch dimension.\n",
    "    # We're only interested in the first num_detections.\n",
    "    num_detections = int(detections.pop('num_detections'))\n",
    "    detections = {key: value[0, :num_detections].numpy()\n",
    "                   for key, value in detections.items()}\n",
    "    detections['num_detections'] = num_detections\n",
    "\n",
    "    # detection_classes should be ints.\n",
    "    detections['detection_classes'] = detections['detection_classes'].astype(np.int64)\n",
    "\n",
    "    preds = [] #[xmin, ymin, xmax, ymax, class_id, confidence]\n",
    "    for rec,cls_,sc in zip(detections['detection_boxes'],detections['detection_classes'],detections['detection_scores']):\n",
    "        # print(rec,cls_,sc)\n",
    "        # print(clss_txt)\n",
    "        if sc>THRESHOLD:\n",
    "            preds.append([int(rec[1]*w), int(rec[0]*h), int(rec[3]*w), int(rec[2]*h),cls_-1,sc])\n",
    "            \n",
    "    print(\"INFERENCE TIME: {} ms\".format((time.time()-start_time)*1000))\n",
    "    return np.array(nms(preds))"
   ]
  },
  {
   "cell_type": "markdown",
   "id": "f7929352",
   "metadata": {},
   "source": [
    "# Iterate over InputDir"
   ]
  },
  {
   "cell_type": "code",
   "execution_count": 9,
   "id": "6df2c295",
   "metadata": {},
   "outputs": [
    {
     "name": "stdout",
     "output_type": "stream",
     "text": [
      "Done: 0, Total Time taken to Read/Process/Inference/Write: 0.07486653327941895\n",
      "VOC PASCAL mAP in till 0 points: 0.0\n",
      "INFERENCE TIME: 84.33222770690918 ms\n",
      "INFERENCE TIME: 93.43075752258301 ms\n",
      "INFERENCE TIME: 71.79713249206543 ms\n",
      "INFERENCE TIME: 60.846805572509766 ms\n",
      "INFERENCE TIME: 77.02207565307617 ms\n",
      "INFERENCE TIME: 74.25355911254883 ms\n",
      "INFERENCE TIME: 72.53646850585938 ms\n",
      "INFERENCE TIME: 89.48373794555664 ms\n",
      "INFERENCE TIME: 67.413330078125 ms\n",
      "INFERENCE TIME: 63.04574012756348 ms\n",
      "INFERENCE TIME: 64.07594680786133 ms\n",
      "INFERENCE TIME: 71.5646743774414 ms\n",
      "INFERENCE TIME: 93.20902824401855 ms\n",
      "INFERENCE TIME: 78.25112342834473 ms\n",
      "INFERENCE TIME: 105.68881034851074 ms\n",
      "INFERENCE TIME: 57.32464790344238 ms\n",
      "INFERENCE TIME: 63.72809410095215 ms\n",
      "INFERENCE TIME: 145.5230712890625 ms\n",
      "INFERENCE TIME: 150.22754669189453 ms\n",
      "INFERENCE TIME: 65.30356407165527 ms\n",
      "INFERENCE TIME: 73.99582862854004 ms\n",
      "INFERENCE TIME: 64.92996215820312 ms\n",
      "INFERENCE TIME: 122.31588363647461 ms\n",
      "INFERENCE TIME: 128.0219554901123 ms\n",
      "INFERENCE TIME: 142.3971652984619 ms\n",
      "INFERENCE TIME: 61.121463775634766 ms\n",
      "INFERENCE TIME: 57.06930160522461 ms\n",
      "INFERENCE TIME: 63.663482666015625 ms\n",
      "INFERENCE TIME: 64.6812915802002 ms\n",
      "INFERENCE TIME: 69.09990310668945 ms\n",
      "INFERENCE TIME: 70.81341743469238 ms\n",
      "INFERENCE TIME: 65.97709655761719 ms\n",
      "INFERENCE TIME: 66.3003921508789 ms\n",
      "INFERENCE TIME: 62.265634536743164 ms\n",
      "Done: 34, Total Time taken to Read/Process/Inference/Write: 3.3413524627685547\n",
      "Avg FPS:  10.17480668547852\n",
      "mAP in till 34 points: 0.809554934501648\n"
     ]
    }
   ],
   "source": [
    "sst = time.time()\n",
    "metric_fn = MetricBuilder.build_evaluation_metric(\"map_2d\", async_mode=True, num_classes=1)\n",
    "ind=0\n",
    "for image_path in glob.glob(IMAGE_PATHS):\n",
    "    \n",
    "    fn = image_path.split(\"/\")[-1]\n",
    "\n",
    "    if ind%100==0:\n",
    "        print(\"Done: {}, Total Time taken to Read/Process/Inference/Write: {}\".format(ind,time.time()-sst))\n",
    "        print(f\"VOC PASCAL mAP in till {ind} points: {metric_fn.value(iou_thresholds=0.5)['mAP']}\")\n",
    "\n",
    "    xml_path = image_path.replace(\"Input/\",\"InputAnnotations/\").replace(\".jpg\",\".xml\")\n",
    "    gt = calculate_ground_truth(xml_path)\n",
    "\n",
    "    image_np = cv2.imread(image_path)\n",
    "    preds = predict_tf(image_np)\n",
    "    for rec in preds:\n",
    "        cv2.rectangle(image_np, (int(rec[0]), int(rec[1])), (int(rec[2]), int(rec[3])),(255,0, 12), 2)\n",
    "        cls_sc_txt = id_to_cls[rec[4]]['name']+\"_\"+str(round(rec[5]*100,2))\n",
    "        \n",
    "    metric_fn.add(preds, gt)\n",
    "    \n",
    "    ind+=1\n",
    "\n",
    "    cv2.imwrite(RESULT_DIR+\"/\"+fn,image_np)\n",
    "    \n",
    "print(\"Done: {}, Total Time taken to Read/Process/Inference/Write: {}\".format(ind,time.time()-sst))\n",
    "print(\"Avg FPS: \",ind/(time.time()-sst))\n",
    "print(f\"mAP in till {ind} points: {metric_fn.value(iou_thresholds=0.5)['mAP']}\")"
   ]
  },
  {
   "cell_type": "code",
   "execution_count": null,
   "id": "d6c182c3",
   "metadata": {},
   "outputs": [],
   "source": []
  }
 ],
 "metadata": {
  "kernelspec": {
   "display_name": "Python 3",
   "language": "python",
   "name": "python3"
  },
  "language_info": {
   "codemirror_mode": {
    "name": "ipython",
    "version": 3
   },
   "file_extension": ".py",
   "mimetype": "text/x-python",
   "name": "python",
   "nbconvert_exporter": "python",
   "pygments_lexer": "ipython3",
   "version": "3.8.5"
  }
 },
 "nbformat": 4,
 "nbformat_minor": 5
}
